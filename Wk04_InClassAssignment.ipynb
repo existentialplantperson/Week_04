{
 "cells": [
  {
   "cell_type": "markdown",
   "id": "a4d7b762",
   "metadata": {},
   "source": [
    "Angela Spencer\n",
    "Week 4 In Class Assignment"
   ]
  },
  {
   "cell_type": "markdown",
   "id": "a716879d",
   "metadata": {},
   "source": [
    "No. 1"
   ]
  },
  {
   "cell_type": "code",
   "execution_count": 16,
   "id": "3537638f",
   "metadata": {},
   "outputs": [
    {
     "data": {
      "text/html": [
       "<div>\n",
       "<style scoped>\n",
       "    .dataframe tbody tr th:only-of-type {\n",
       "        vertical-align: middle;\n",
       "    }\n",
       "\n",
       "    .dataframe tbody tr th {\n",
       "        vertical-align: top;\n",
       "    }\n",
       "\n",
       "    .dataframe thead th {\n",
       "        text-align: right;\n",
       "    }\n",
       "</style>\n",
       "<table border=\"1\" class=\"dataframe\">\n",
       "  <thead>\n",
       "    <tr style=\"text-align: right;\">\n",
       "      <th></th>\n",
       "      <th>id</th>\n",
       "      <th>name</th>\n",
       "      <th>host_id</th>\n",
       "      <th>host_name</th>\n",
       "      <th>neighbourhood_group</th>\n",
       "      <th>neighbourhood</th>\n",
       "      <th>latitude</th>\n",
       "      <th>longitude</th>\n",
       "      <th>room_type</th>\n",
       "      <th>price</th>\n",
       "      <th>minimum_nights</th>\n",
       "      <th>number_of_reviews</th>\n",
       "      <th>last_review</th>\n",
       "      <th>reviews_per_month</th>\n",
       "      <th>calculated_host_listings_count</th>\n",
       "      <th>availability_365</th>\n",
       "    </tr>\n",
       "  </thead>\n",
       "  <tbody>\n",
       "    <tr>\n",
       "      <th>0</th>\n",
       "      <td>36666</td>\n",
       "      <td>Mo's Cozy Casa w/ veranda &amp; access to dock</td>\n",
       "      <td>157752</td>\n",
       "      <td>Monique</td>\n",
       "      <td>Belize</td>\n",
       "      <td>Belize Islands</td>\n",
       "      <td>17.74786</td>\n",
       "      <td>-88.02398</td>\n",
       "      <td>Entire home/apt</td>\n",
       "      <td>141</td>\n",
       "      <td>3</td>\n",
       "      <td>250</td>\n",
       "      <td>2/23/2021</td>\n",
       "      <td>2.0</td>\n",
       "      <td>5</td>\n",
       "      <td>225</td>\n",
       "    </tr>\n",
       "  </tbody>\n",
       "</table>\n",
       "</div>"
      ],
      "text/plain": [
       "      id                                        name  host_id host_name  \\\n",
       "0  36666  Mo's Cozy Casa w/ veranda & access to dock   157752   Monique   \n",
       "\n",
       "  neighbourhood_group   neighbourhood  latitude  longitude        room_type  \\\n",
       "0              Belize  Belize Islands  17.74786  -88.02398  Entire home/apt   \n",
       "\n",
       "   price  minimum_nights  number_of_reviews last_review  reviews_per_month  \\\n",
       "0    141               3                250   2/23/2021                2.0   \n",
       "\n",
       "   calculated_host_listings_count  availability_365  \n",
       "0                               5               225  "
      ]
     },
     "execution_count": 16,
     "metadata": {},
     "output_type": "execute_result"
    }
   ],
   "source": [
    "import pandas as pd\n",
    "\n",
    "belize_df = pd.read_csv(\"belize_airbnb_listings.csv\")\n",
    "belize_df.head(1)"
   ]
  },
  {
   "cell_type": "code",
   "execution_count": 14,
   "id": "2dd6c6df",
   "metadata": {},
   "outputs": [],
   "source": [
    "belize_groupby = belize_df.groupby(\"neighbourhood\")"
   ]
  },
  {
   "cell_type": "code",
   "execution_count": 17,
   "id": "b7eaeecb",
   "metadata": {},
   "outputs": [
    {
     "data": {
      "text/plain": [
       "neighbourhood\n",
       "Belize Islands           399.442824\n",
       "Belize Mainland          288.273063\n",
       "Cayo                     205.847525\n",
       "Corozal                  156.553846\n",
       "Orange Walk              122.035714\n",
       "Stann Creek Islands     1136.166667\n",
       "Stann Creek Mainland     456.994690\n",
       "Toledo Mainland          222.978723\n",
       "Name: price, dtype: float64"
      ]
     },
     "execution_count": 17,
     "metadata": {},
     "output_type": "execute_result"
    }
   ],
   "source": [
    "belize_groupby['price'].mean()"
   ]
  },
  {
   "cell_type": "code",
   "execution_count": 19,
   "id": "835f7b72",
   "metadata": {},
   "outputs": [
    {
     "data": {
      "text/plain": [
       "neighbourhood\n",
       "Belize Islands          17.647736\n",
       "Belize Mainland         15.147601\n",
       "Cayo                    14.566337\n",
       "Corozal                  7.569231\n",
       "Orange Walk             14.821429\n",
       "Stann Creek Islands      5.750000\n",
       "Stann Creek Mainland     8.470796\n",
       "Toledo Mainland          4.127660\n",
       "Name: number_of_reviews, dtype: float64"
      ]
     },
     "execution_count": 19,
     "metadata": {},
     "output_type": "execute_result"
    }
   ],
   "source": [
    "belize_groupby['number_of_reviews'].mean()"
   ]
  },
  {
   "cell_type": "code",
   "execution_count": 20,
   "id": "0a21c3ad",
   "metadata": {},
   "outputs": [
    {
     "data": {
      "text/plain": [
       "neighbourhood\n",
       "Belize Islands          295.970837\n",
       "Belize Mainland         261.014760\n",
       "Cayo                    259.249505\n",
       "Corozal                 278.676923\n",
       "Orange Walk             261.928571\n",
       "Stann Creek Islands     248.083333\n",
       "Stann Creek Mainland    277.872566\n",
       "Toledo Mainland         234.744681\n",
       "Name: availability_365, dtype: float64"
      ]
     },
     "execution_count": 20,
     "metadata": {},
     "output_type": "execute_result"
    }
   ],
   "source": [
    "belize_groupby['availability_365'].mean()"
   ]
  },
  {
   "cell_type": "code",
   "execution_count": 29,
   "id": "51567f5c",
   "metadata": {},
   "outputs": [
    {
     "name": "stdout",
     "output_type": "stream",
     "text": [
      "                            price  number_of_reviews  availability_365\n",
      "neighbourhood                                                         \n",
      "Belize Islands         399.442824          17.647736        295.970837\n",
      "Belize Mainland        288.273063          15.147601        261.014760\n",
      "Cayo                   205.847525          14.566337        259.249505\n",
      "Corozal                156.553846           7.569231        278.676923\n",
      "Orange Walk            122.035714          14.821429        261.928571\n",
      "Stann Creek Islands   1136.166667           5.750000        248.083333\n",
      "Stann Creek Mainland   456.994690           8.470796        277.872566\n",
      "Toledo Mainland        222.978723           4.127660        234.744681\n"
     ]
    }
   ],
   "source": [
    "belize_means = belize_groupby[[\"price\", \"number_of_reviews\", \"availability_365\"]].mean()\n",
    "print(belize_means)"
   ]
  },
  {
   "cell_type": "code",
   "execution_count": 30,
   "id": "3c395893",
   "metadata": {},
   "outputs": [],
   "source": [
    "#other options\n",
    "#reset index and merge all on index\n",
    "#or leave each calculation as a series"
   ]
  },
  {
   "cell_type": "markdown",
   "id": "e039d6af",
   "metadata": {},
   "source": [
    "NO 2"
   ]
  },
  {
   "cell_type": "code",
   "execution_count": 31,
   "id": "a5dc1a6d",
   "metadata": {},
   "outputs": [
    {
     "name": "stdout",
     "output_type": "stream",
     "text": [
      "[4, 16, 36, 64, 100, 144, 196]\n"
     ]
    }
   ],
   "source": [
    "list1 = [2,4,6,8,10,12,14]\n",
    "list2 = [x**2 for x in list1]\n",
    "print(list2)"
   ]
  },
  {
   "cell_type": "markdown",
   "id": "64886bbf",
   "metadata": {},
   "source": [
    "NO 3"
   ]
  },
  {
   "cell_type": "code",
   "execution_count": 32,
   "id": "65221dff",
   "metadata": {},
   "outputs": [
    {
     "name": "stdout",
     "output_type": "stream",
     "text": [
      "[1.3333333333333333, 2.6666666666666665, 4.0, 5.333333333333333, 6.666666666666667, 8.0, 9.333333333333334]\n"
     ]
    }
   ],
   "source": [
    "list3 = [x*2/3 for x in list1]\n",
    "print(list3)"
   ]
  },
  {
   "cell_type": "markdown",
   "id": "7b2a388e",
   "metadata": {},
   "source": [
    "NO 4"
   ]
  },
  {
   "cell_type": "code",
   "execution_count": 63,
   "id": "1bc7d4b3",
   "metadata": {},
   "outputs": [
    {
     "name": "stdout",
     "output_type": "stream",
     "text": [
      "{'Apples': 1500, 'Cranberries': 2000, 'Pears': 2500, 'Cherries': 1600, 'Plums': 2400, 'Peaches': 13600, 'Oranges': 7}\n"
     ]
    }
   ],
   "source": [
    "dict_upper = {\"Apples\": 1500, \"Cranberries\": 2000, \"Pears\": 2500, \"Cherries\": 1600, \"Plums\": 2400, \"Peaches\": 13600, \"Oranges\":7}\n",
    "print(dict_upper)"
   ]
  },
  {
   "cell_type": "code",
   "execution_count": 66,
   "id": "59b0ccb4",
   "metadata": {},
   "outputs": [
    {
     "name": "stdout",
     "output_type": "stream",
     "text": [
      "{'apples': 1500, 'cranberries': 2000, 'pears': 2500, 'cherries': 1600, 'plums': 2400, 'peaches': 13600, 'oranges': 7}\n"
     ]
    }
   ],
   "source": [
    "dict_lower = {key.lower():value for key,value in dict_upper.items()}\n",
    "print(dict_lower)"
   ]
  },
  {
   "cell_type": "code",
   "execution_count": null,
   "id": "751ac10d",
   "metadata": {},
   "outputs": [],
   "source": [
    "#reset the key with the .lower function rather than edit each entry\n",
    "#https://stackoverflow.com/questions/764235/dictionary-to-lowercase-in-python"
   ]
  }
 ],
 "metadata": {
  "kernelspec": {
   "display_name": "Python 3 (ipykernel)",
   "language": "python",
   "name": "python3"
  },
  "language_info": {
   "codemirror_mode": {
    "name": "ipython",
    "version": 3
   },
   "file_extension": ".py",
   "mimetype": "text/x-python",
   "name": "python",
   "nbconvert_exporter": "python",
   "pygments_lexer": "ipython3",
   "version": "3.9.7"
  }
 },
 "nbformat": 4,
 "nbformat_minor": 5
}
