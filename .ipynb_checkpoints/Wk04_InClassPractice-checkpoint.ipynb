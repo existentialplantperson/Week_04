{
 "cells": [
  {
   "cell_type": "code",
   "execution_count": 1,
   "id": "64fe881d",
   "metadata": {},
   "outputs": [],
   "source": [
    "# bash = Bourne Again Shell\n",
    "# git bash is a terminal interface\n",
    "# cd = change directory\n",
    "# pwd = print working directory"
   ]
  },
  {
   "cell_type": "code",
   "execution_count": 5,
   "id": "f6efc307",
   "metadata": {},
   "outputs": [],
   "source": [
    "lst = [1,2,3,4,5,6,7,8]"
   ]
  },
  {
   "cell_type": "code",
   "execution_count": 4,
   "id": "588fa1c3",
   "metadata": {},
   "outputs": [
    {
     "name": "stdout",
     "output_type": "stream",
     "text": [
      "2\n",
      "4\n",
      "6\n",
      "8\n"
     ]
    }
   ],
   "source": [
    "for x in lst:\n",
    "    if x % 2 == 0:\n",
    "        print(x)"
   ]
  },
  {
   "cell_type": "code",
   "execution_count": 8,
   "id": "76d27049",
   "metadata": {},
   "outputs": [
    {
     "name": "stdout",
     "output_type": "stream",
     "text": [
      "[2, 4, 6, 8]\n"
     ]
    }
   ],
   "source": [
    "#list comprehension\n",
    "new_list = [x for x in lst if x % 2==0]\n",
    "print(new_list)"
   ]
  },
  {
   "cell_type": "code",
   "execution_count": 9,
   "id": "9e874382",
   "metadata": {},
   "outputs": [
    {
     "name": "stdout",
     "output_type": "stream",
     "text": [
      "(6,)\n"
     ]
    }
   ],
   "source": [
    "import numpy as np\n",
    "a = np.array([1,2,3,4,5,6])\n",
    "print(a.shape)"
   ]
  },
  {
   "cell_type": "code",
   "execution_count": 10,
   "id": "55f7e3a0",
   "metadata": {},
   "outputs": [
    {
     "name": "stdout",
     "output_type": "stream",
     "text": [
      "[[1 2]\n",
      " [3 4]\n",
      " [5 6]]\n"
     ]
    }
   ],
   "source": [
    "#reorients into a 3 X 2 array\n",
    "b = a.reshape(3,2)\n",
    "print(b)"
   ]
  },
  {
   "cell_type": "code",
   "execution_count": 11,
   "id": "0fc626b6",
   "metadata": {},
   "outputs": [
    {
     "name": "stdout",
     "output_type": "stream",
     "text": [
      "[[1 2 3]\n",
      " [4 5 6]]\n"
     ]
    }
   ],
   "source": [
    "c = a.reshape(2,-1)\n",
    "print(c)\n",
    "#-1 is a place holder to allow python \n",
    "#to figure out the appropriate shape"
   ]
  },
  {
   "cell_type": "code",
   "execution_count": 14,
   "id": "34647218",
   "metadata": {},
   "outputs": [
    {
     "data": {
      "text/plain": [
       "array([1, 2, 3, 4, 5, 6])"
      ]
     },
     "execution_count": 14,
     "metadata": {},
     "output_type": "execute_result"
    }
   ],
   "source": [
    "d = b.ravel()\n",
    "d\n",
    "#flattens array"
   ]
  },
  {
   "cell_type": "code",
   "execution_count": 19,
   "id": "d6c59c35",
   "metadata": {},
   "outputs": [
    {
     "name": "stdout",
     "output_type": "stream",
     "text": [
      "[0 1 2 3 4 5 6 7 8 9]\n"
     ]
    }
   ],
   "source": [
    "#transposing, switch the rows and columns\n",
    "e = np.arange(10)\n",
    "print(e)"
   ]
  },
  {
   "cell_type": "code",
   "execution_count": 20,
   "id": "2e40ae3d",
   "metadata": {},
   "outputs": [
    {
     "name": "stdout",
     "output_type": "stream",
     "text": [
      "[[1 4]\n",
      " [2 5]\n",
      " [3 6]]\n"
     ]
    }
   ],
   "source": [
    "#another way to transpose, transposes the first two axes\n",
    "f = c.T\n",
    "print(f)"
   ]
  },
  {
   "cell_type": "code",
   "execution_count": 21,
   "id": "455f45ad",
   "metadata": {},
   "outputs": [
    {
     "name": "stdout",
     "output_type": "stream",
     "text": [
      "[[1 4]\n",
      " [2 5]\n",
      " [3 6]]\n"
     ]
    }
   ],
   "source": [
    "#transpose \n",
    "g = c.transpose((1,0))\n",
    "print(g)"
   ]
  },
  {
   "cell_type": "code",
   "execution_count": 22,
   "id": "039e531b",
   "metadata": {},
   "outputs": [],
   "source": [
    "#indexing\n",
    "# a[0,0] = top left\n",
    "# a[0,-1] = first row, last column (-1 means figure it out)\n",
    "# a[0,:] = first row, all entries\n",
    "# a[:,0] = first column, all entries"
   ]
  },
  {
   "cell_type": "code",
   "execution_count": 23,
   "id": "632798cc",
   "metadata": {},
   "outputs": [
    {
     "name": "stdout",
     "output_type": "stream",
     "text": [
      "[[1 4]\n",
      " [2 5]\n",
      " [3 6]]\n"
     ]
    }
   ],
   "source": [
    "print(g)"
   ]
  },
  {
   "cell_type": "code",
   "execution_count": 24,
   "id": "12aa7e2c",
   "metadata": {},
   "outputs": [
    {
     "name": "stdout",
     "output_type": "stream",
     "text": [
      "5\n"
     ]
    }
   ],
   "source": [
    "#find the 5\n",
    "print(g[1,1])"
   ]
  },
  {
   "cell_type": "code",
   "execution_count": 26,
   "id": "686cc383",
   "metadata": {},
   "outputs": [
    {
     "name": "stdout",
     "output_type": "stream",
     "text": [
      "[0, 1, 2, 3, 4, 5, 6, 7, 8, 9]\n",
      "[0, 1, 2]\n"
     ]
    }
   ],
   "source": [
    "a = list(range(10))\n",
    "print(a)\n",
    "print(a[:3])  #indices 0,1,2"
   ]
  },
  {
   "cell_type": "code",
   "execution_count": 33,
   "id": "5248a057",
   "metadata": {},
   "outputs": [
    {
     "name": "stdout",
     "output_type": "stream",
     "text": [
      "[[1.41421356 1.73205081 2.        ]\n",
      " [2.23606798 2.44948974 2.64575131]\n",
      " [2.82842712 3.         3.16227766]]\n"
     ]
    }
   ],
   "source": [
    "#write a NumPy program to create a 3x3 matrix with values ranging from 2 - 10\n",
    "#find the square root of all the values in this numpy array\n",
    "\n",
    "new_matrix = np.arange(2,11)\n",
    "\n",
    "matrix_three = new_matrix.reshape(3,3)\n",
    "\n",
    "print(np.sqrt(matrix_three))"
   ]
  },
  {
   "cell_type": "code",
   "execution_count": 34,
   "id": "9e402040",
   "metadata": {},
   "outputs": [],
   "source": [
    "#Pandas\n",
    "#series and data frames\n",
    "#can import CSV (comma seperated values)\n",
    "#Pandas documentation and W3 schools for more info\n",
    "#file = pandas_part_1 in github "
   ]
  }
 ],
 "metadata": {
  "kernelspec": {
   "display_name": "Python 3 (ipykernel)",
   "language": "python",
   "name": "python3"
  },
  "language_info": {
   "codemirror_mode": {
    "name": "ipython",
    "version": 3
   },
   "file_extension": ".py",
   "mimetype": "text/x-python",
   "name": "python",
   "nbconvert_exporter": "python",
   "pygments_lexer": "ipython3",
   "version": "3.9.7"
  }
 },
 "nbformat": 4,
 "nbformat_minor": 5
}
