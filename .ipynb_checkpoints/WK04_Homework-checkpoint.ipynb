{
 "cells": [
  {
   "cell_type": "markdown",
   "id": "4b39a447",
   "metadata": {},
   "source": [
    "Angela Spencer - Week 04 Homework"
   ]
  },
  {
   "cell_type": "code",
   "execution_count": 457,
   "id": "69aaec71",
   "metadata": {},
   "outputs": [],
   "source": [
    "import pandas as pd\n",
    "import numpy as np\n",
    "purchases = pd.read_csv(\"purchase_data.csv\")"
   ]
  },
  {
   "cell_type": "code",
   "execution_count": 458,
   "id": "4bc0a7c1",
   "metadata": {},
   "outputs": [
    {
     "data": {
      "text/html": [
       "<div>\n",
       "<style scoped>\n",
       "    .dataframe tbody tr th:only-of-type {\n",
       "        vertical-align: middle;\n",
       "    }\n",
       "\n",
       "    .dataframe tbody tr th {\n",
       "        vertical-align: top;\n",
       "    }\n",
       "\n",
       "    .dataframe thead th {\n",
       "        text-align: right;\n",
       "    }\n",
       "</style>\n",
       "<table border=\"1\" class=\"dataframe\">\n",
       "  <thead>\n",
       "    <tr style=\"text-align: right;\">\n",
       "      <th></th>\n",
       "      <th>Purchase ID</th>\n",
       "      <th>SN</th>\n",
       "      <th>Age</th>\n",
       "      <th>Gender</th>\n",
       "      <th>Item ID</th>\n",
       "      <th>Item Name</th>\n",
       "      <th>Price</th>\n",
       "    </tr>\n",
       "  </thead>\n",
       "  <tbody>\n",
       "    <tr>\n",
       "      <th>0</th>\n",
       "      <td>0</td>\n",
       "      <td>Lisim78</td>\n",
       "      <td>20</td>\n",
       "      <td>Male</td>\n",
       "      <td>108</td>\n",
       "      <td>Extraction, Quickblade Of Trembling Hands</td>\n",
       "      <td>3.53</td>\n",
       "    </tr>\n",
       "    <tr>\n",
       "      <th>1</th>\n",
       "      <td>1</td>\n",
       "      <td>Lisovynya38</td>\n",
       "      <td>40</td>\n",
       "      <td>Male</td>\n",
       "      <td>143</td>\n",
       "      <td>Frenzied Scimitar</td>\n",
       "      <td>1.56</td>\n",
       "    </tr>\n",
       "    <tr>\n",
       "      <th>2</th>\n",
       "      <td>2</td>\n",
       "      <td>Ithergue48</td>\n",
       "      <td>24</td>\n",
       "      <td>Male</td>\n",
       "      <td>92</td>\n",
       "      <td>Final Critic</td>\n",
       "      <td>4.88</td>\n",
       "    </tr>\n",
       "    <tr>\n",
       "      <th>3</th>\n",
       "      <td>3</td>\n",
       "      <td>Chamassasya86</td>\n",
       "      <td>24</td>\n",
       "      <td>Male</td>\n",
       "      <td>100</td>\n",
       "      <td>Blindscythe</td>\n",
       "      <td>3.27</td>\n",
       "    </tr>\n",
       "    <tr>\n",
       "      <th>4</th>\n",
       "      <td>4</td>\n",
       "      <td>Iskosia90</td>\n",
       "      <td>23</td>\n",
       "      <td>Male</td>\n",
       "      <td>131</td>\n",
       "      <td>Fury</td>\n",
       "      <td>1.44</td>\n",
       "    </tr>\n",
       "  </tbody>\n",
       "</table>\n",
       "</div>"
      ],
      "text/plain": [
       "   Purchase ID             SN  Age Gender  Item ID  \\\n",
       "0            0        Lisim78   20   Male      108   \n",
       "1            1    Lisovynya38   40   Male      143   \n",
       "2            2     Ithergue48   24   Male       92   \n",
       "3            3  Chamassasya86   24   Male      100   \n",
       "4            4      Iskosia90   23   Male      131   \n",
       "\n",
       "                                   Item Name  Price  \n",
       "0  Extraction, Quickblade Of Trembling Hands   3.53  \n",
       "1                          Frenzied Scimitar   1.56  \n",
       "2                               Final Critic   4.88  \n",
       "3                                Blindscythe   3.27  \n",
       "4                                       Fury   1.44  "
      ]
     },
     "execution_count": 458,
     "metadata": {},
     "output_type": "execute_result"
    }
   ],
   "source": [
    "purchases.head()"
   ]
  },
  {
   "cell_type": "raw",
   "id": "91710111",
   "metadata": {},
   "source": [
    "Player Count\n",
    "Display the total number of players"
   ]
  },
  {
   "cell_type": "code",
   "execution_count": 459,
   "id": "6cc9e278",
   "metadata": {},
   "outputs": [
    {
     "data": {
      "text/plain": [
       "576"
      ]
     },
     "execution_count": 459,
     "metadata": {},
     "output_type": "execute_result"
    }
   ],
   "source": [
    "#drop duplicate screen names from purchases\n",
    "sn_dropped = purchases.drop_duplicates(subset=[\"SN\"])\n",
    "#display unique screen names\n",
    "unique_sn = len(sn_dropped.value_counts())\n",
    "unique_sn"
   ]
  },
  {
   "cell_type": "code",
   "execution_count": 460,
   "id": "1af62fe4",
   "metadata": {},
   "outputs": [
    {
     "data": {
      "text/html": [
       "<div>\n",
       "<style scoped>\n",
       "    .dataframe tbody tr th:only-of-type {\n",
       "        vertical-align: middle;\n",
       "    }\n",
       "\n",
       "    .dataframe tbody tr th {\n",
       "        vertical-align: top;\n",
       "    }\n",
       "\n",
       "    .dataframe thead th {\n",
       "        text-align: right;\n",
       "    }\n",
       "</style>\n",
       "<table border=\"1\" class=\"dataframe\">\n",
       "  <thead>\n",
       "    <tr style=\"text-align: right;\">\n",
       "      <th></th>\n",
       "      <th>Player Count</th>\n",
       "    </tr>\n",
       "  </thead>\n",
       "  <tbody>\n",
       "    <tr>\n",
       "      <th>0</th>\n",
       "      <td>576</td>\n",
       "    </tr>\n",
       "  </tbody>\n",
       "</table>\n",
       "</div>"
      ],
      "text/plain": [
       "   Player Count\n",
       "0           576"
      ]
     },
     "execution_count": 460,
     "metadata": {},
     "output_type": "execute_result"
    }
   ],
   "source": [
    "#create dataframe to display value\n",
    "player_count_dict = {\"Player Count\":[unique_sn]}\n",
    "player_count = pd.DataFrame(player_count_dict)\n",
    "player_count"
   ]
  },
  {
   "cell_type": "raw",
   "id": "182118bf",
   "metadata": {},
   "source": [
    "Purchasing Analysis (Total)\n",
    "Run basic calculations to obtain number of unique items, average price, number of purchases, total revenue\n",
    "Create a summary data frame to hold the results\n",
    "Optional: give the displayed data cleaner formatting\n",
    "Display the summary data frame"
   ]
  },
  {
   "cell_type": "code",
   "execution_count": 461,
   "id": "aedb43d2",
   "metadata": {},
   "outputs": [
    {
     "data": {
      "text/plain": [
       "183"
      ]
     },
     "execution_count": 461,
     "metadata": {},
     "output_type": "execute_result"
    }
   ],
   "source": [
    "#number of unique items = 183\n",
    "unique_items = len(purchases[\"Item ID\"].drop_duplicates())\n",
    "unique_items"
   ]
  },
  {
   "cell_type": "code",
   "execution_count": 462,
   "id": "a10390eb",
   "metadata": {},
   "outputs": [
    {
     "data": {
      "text/plain": [
       "3.05"
      ]
     },
     "execution_count": 462,
     "metadata": {},
     "output_type": "execute_result"
    }
   ],
   "source": [
    "#average price = $3.05\n",
    "average_price = round(purchases[\"Price\"].mean(),2)\n",
    "average_price"
   ]
  },
  {
   "cell_type": "code",
   "execution_count": 463,
   "id": "76fb11de",
   "metadata": {},
   "outputs": [
    {
     "data": {
      "text/plain": [
       "780"
      ]
     },
     "execution_count": 463,
     "metadata": {},
     "output_type": "execute_result"
    }
   ],
   "source": [
    "#total number of purchases = 780\n",
    "total_purchases = purchases['Purchase ID'].count()\n",
    "total_purchases"
   ]
  },
  {
   "cell_type": "code",
   "execution_count": 464,
   "id": "af198b5d",
   "metadata": {},
   "outputs": [
    {
     "data": {
      "text/plain": [
       "2379.77"
      ]
     },
     "execution_count": 464,
     "metadata": {},
     "output_type": "execute_result"
    }
   ],
   "source": [
    "#total revenue = $2379.77\n",
    "total_revenue = purchases['Price'].sum()\n",
    "total_revenue"
   ]
  },
  {
   "cell_type": "code",
   "execution_count": 465,
   "id": "3666452b",
   "metadata": {},
   "outputs": [
    {
     "data": {
      "text/html": [
       "<div>\n",
       "<style scoped>\n",
       "    .dataframe tbody tr th:only-of-type {\n",
       "        vertical-align: middle;\n",
       "    }\n",
       "\n",
       "    .dataframe tbody tr th {\n",
       "        vertical-align: top;\n",
       "    }\n",
       "\n",
       "    .dataframe thead th {\n",
       "        text-align: right;\n",
       "    }\n",
       "</style>\n",
       "<table border=\"1\" class=\"dataframe\">\n",
       "  <thead>\n",
       "    <tr style=\"text-align: right;\">\n",
       "      <th></th>\n",
       "      <th>Number of Unique Items</th>\n",
       "      <th>Average Price</th>\n",
       "      <th>Number of Purchases</th>\n",
       "      <th>Total Revenue</th>\n",
       "    </tr>\n",
       "  </thead>\n",
       "  <tbody>\n",
       "    <tr>\n",
       "      <th>0</th>\n",
       "      <td>183</td>\n",
       "      <td>3.05</td>\n",
       "      <td>780</td>\n",
       "      <td>2379.77</td>\n",
       "    </tr>\n",
       "  </tbody>\n",
       "</table>\n",
       "</div>"
      ],
      "text/plain": [
       "   Number of Unique Items  Average Price  Number of Purchases  Total Revenue\n",
       "0                     183           3.05                  780        2379.77"
      ]
     },
     "execution_count": 465,
     "metadata": {},
     "output_type": "execute_result"
    }
   ],
   "source": [
    "#display purchasing analysis\n",
    "purchasing_analysis_dict = {\n",
    "  \"Number of Unique Items\": [unique_items],\n",
    "  \"Average Price\": [average_price],\n",
    "  \"Number of Purchases\": [total_purchases],\n",
    "  \"Total Revenue\": [total_revenue]\n",
    "}\n",
    "purchasing_analysis = pd.DataFrame(purchasing_analysis_dict)\n",
    "purchasing_analysis"
   ]
  },
  {
   "cell_type": "raw",
   "id": "1a6328a4",
   "metadata": {},
   "source": [
    "Gender Demographics\n",
    "Percentage and Count of Male Players\n",
    "Percentage and Count of Female Players\n",
    "Percentage and Count of Other / Non-Disclosed"
   ]
  },
  {
   "cell_type": "code",
   "execution_count": 466,
   "id": "bf0b3405",
   "metadata": {},
   "outputs": [
    {
     "data": {
      "text/plain": [
       "Male                     484\n",
       "Female                    81\n",
       "Other / Non-Disclosed     11\n",
       "Name: Gender, dtype: int64"
      ]
     },
     "execution_count": 466,
     "metadata": {},
     "output_type": "execute_result"
    }
   ],
   "source": [
    "#player count by gender\n",
    "gender_count = sn_dropped[\"Gender\"].value_counts(sort=True)\n",
    "gender_count"
   ]
  },
  {
   "cell_type": "code",
   "execution_count": 467,
   "id": "e2a41d9e",
   "metadata": {},
   "outputs": [
    {
     "data": {
      "text/plain": [
       "Male                     84.03\n",
       "Female                   14.06\n",
       "Other / Non-Disclosed     1.91\n",
       "Name: Gender, dtype: float64"
      ]
     },
     "execution_count": 467,
     "metadata": {},
     "output_type": "execute_result"
    }
   ],
   "source": [
    "#Player count percentage by gender\n",
    "gender_percent = round(gender_count / 576 * 100,2)\n",
    "gender_percent"
   ]
  },
  {
   "cell_type": "code",
   "execution_count": 468,
   "id": "53af8540",
   "metadata": {},
   "outputs": [
    {
     "data": {
      "text/html": [
       "<div>\n",
       "<style scoped>\n",
       "    .dataframe tbody tr th:only-of-type {\n",
       "        vertical-align: middle;\n",
       "    }\n",
       "\n",
       "    .dataframe tbody tr th {\n",
       "        vertical-align: top;\n",
       "    }\n",
       "\n",
       "    .dataframe thead th {\n",
       "        text-align: right;\n",
       "    }\n",
       "</style>\n",
       "<table border=\"1\" class=\"dataframe\">\n",
       "  <thead>\n",
       "    <tr style=\"text-align: right;\">\n",
       "      <th></th>\n",
       "      <th>Player Count</th>\n",
       "      <th>Percentage</th>\n",
       "    </tr>\n",
       "  </thead>\n",
       "  <tbody>\n",
       "    <tr>\n",
       "      <th>Male</th>\n",
       "      <td>484</td>\n",
       "      <td>84.03</td>\n",
       "    </tr>\n",
       "    <tr>\n",
       "      <th>Female</th>\n",
       "      <td>81</td>\n",
       "      <td>14.06</td>\n",
       "    </tr>\n",
       "    <tr>\n",
       "      <th>Other / Non-Disclosed</th>\n",
       "      <td>11</td>\n",
       "      <td>1.91</td>\n",
       "    </tr>\n",
       "  </tbody>\n",
       "</table>\n",
       "</div>"
      ],
      "text/plain": [
       "                       Player Count  Percentage\n",
       "Male                            484       84.03\n",
       "Female                           81       14.06\n",
       "Other / Non-Disclosed            11        1.91"
      ]
     },
     "execution_count": 468,
     "metadata": {},
     "output_type": "execute_result"
    }
   ],
   "source": [
    "#display gender demographics\n",
    "gender_demographics = pd.concat([\n",
    "    gender_count.rename(\"Player Count\"), \n",
    "    gender_percent.rename(\"Percentage\")], axis=1)\n",
    "gender_demographics"
   ]
  },
  {
   "cell_type": "raw",
   "id": "21642647",
   "metadata": {},
   "source": [
    "Purchasing Analysis (Gender)\n",
    "Run basic calculations to obtain purchase count, avg. purchase price, avg. purchase total per person, total purchase value by gender\n",
    "Create a summary data frame to hold the results\n",
    "Optional: give the displayed data cleaner formatting\n",
    "Display the summary data frame"
   ]
  },
  {
   "cell_type": "code",
   "execution_count": 469,
   "id": "a764c4e1",
   "metadata": {},
   "outputs": [
    {
     "data": {
      "text/plain": [
       "Male                     652\n",
       "Female                   113\n",
       "Other / Non-Disclosed     15\n",
       "Name: Gender, dtype: int64"
      ]
     },
     "execution_count": 469,
     "metadata": {},
     "output_type": "execute_result"
    }
   ],
   "source": [
    "#group by gender\n",
    "gender_grouped = purchases.groupby(\"Gender\")\n",
    "\n",
    "#purchase count by gender\n",
    "gender_pur_total = purchases[\"Gender\"].value_counts()\n",
    "gender_pur_total"
   ]
  },
  {
   "cell_type": "code",
   "execution_count": 470,
   "id": "f8c28fcc",
   "metadata": {},
   "outputs": [
    {
     "data": {
      "text/plain": [
       "Gender\n",
       "Female                   3.20\n",
       "Male                     3.02\n",
       "Other / Non-Disclosed    3.35\n",
       "Name: Price, dtype: float64"
      ]
     },
     "execution_count": 470,
     "metadata": {},
     "output_type": "execute_result"
    }
   ],
   "source": [
    "#average purchase price by gender\n",
    "gender_average_price = round(gender_grouped['Price'].mean(),2)\n",
    "gender_average_price"
   ]
  },
  {
   "cell_type": "code",
   "execution_count": 471,
   "id": "1a311a40",
   "metadata": {},
   "outputs": [
    {
     "data": {
      "text/plain": [
       "Gender\n",
       "Female                    361.94\n",
       "Male                     1967.64\n",
       "Other / Non-Disclosed      50.19\n",
       "Name: Price, dtype: float64"
      ]
     },
     "execution_count": 471,
     "metadata": {},
     "output_type": "execute_result"
    }
   ],
   "source": [
    "#purchase total per gender\n",
    "gender_total_purchase = gender_grouped[\"Price\"].sum()\n",
    "gender_total_purchase"
   ]
  },
  {
   "cell_type": "code",
   "execution_count": 472,
   "id": "d17ad732",
   "metadata": {},
   "outputs": [
    {
     "data": {
      "text/html": [
       "<div>\n",
       "<style scoped>\n",
       "    .dataframe tbody tr th:only-of-type {\n",
       "        vertical-align: middle;\n",
       "    }\n",
       "\n",
       "    .dataframe tbody tr th {\n",
       "        vertical-align: top;\n",
       "    }\n",
       "\n",
       "    .dataframe thead th {\n",
       "        text-align: right;\n",
       "    }\n",
       "</style>\n",
       "<table border=\"1\" class=\"dataframe\">\n",
       "  <thead>\n",
       "    <tr style=\"text-align: right;\">\n",
       "      <th></th>\n",
       "      <th>Purchase Count</th>\n",
       "      <th>Average Purchase Value</th>\n",
       "      <th>Purchase Total</th>\n",
       "    </tr>\n",
       "  </thead>\n",
       "  <tbody>\n",
       "    <tr>\n",
       "      <th>Male</th>\n",
       "      <td>652</td>\n",
       "      <td>3.02</td>\n",
       "      <td>1967.64</td>\n",
       "    </tr>\n",
       "    <tr>\n",
       "      <th>Female</th>\n",
       "      <td>113</td>\n",
       "      <td>3.20</td>\n",
       "      <td>361.94</td>\n",
       "    </tr>\n",
       "    <tr>\n",
       "      <th>Other / Non-Disclosed</th>\n",
       "      <td>15</td>\n",
       "      <td>3.35</td>\n",
       "      <td>50.19</td>\n",
       "    </tr>\n",
       "  </tbody>\n",
       "</table>\n",
       "</div>"
      ],
      "text/plain": [
       "                       Purchase Count  Average Purchase Value  Purchase Total\n",
       "Male                              652                    3.02         1967.64\n",
       "Female                            113                    3.20          361.94\n",
       "Other / Non-Disclosed              15                    3.35           50.19"
      ]
     },
     "execution_count": 472,
     "metadata": {},
     "output_type": "execute_result"
    }
   ],
   "source": [
    "#display Purchasing Analysis by gender\n",
    "gender_purchasing_analysis = pd.concat(\n",
    "    [gender_pur_total.rename(\"Purchase Count\"), \n",
    "     gender_average_price.rename(\"Average Purchase Value\"),\n",
    "     gender_total_purchase.rename(\"Purchase Total\")], axis=1)\n",
    "gender_purchasing_analysis"
   ]
  },
  {
   "cell_type": "raw",
   "id": "c97bc3e2",
   "metadata": {},
   "source": [
    "Age Demographics\n",
    "Establish bins for ages\n",
    "Categorize the existing players using the age bins. Hint: use pd.cut()\n",
    "Calculate the numbers and percentages by age group\n",
    "Create a summary data frame to hold the results\n",
    "Optional: round the percentage column to two decimal points\n",
    "Display Age Demographics Table"
   ]
  },
  {
   "cell_type": "code",
   "execution_count": 473,
   "id": "ce297e8a",
   "metadata": {},
   "outputs": [
    {
     "name": "stderr",
     "output_type": "stream",
     "text": [
      "C:\\Users\\Inspiron\\AppData\\Local\\Temp/ipykernel_5776/684278992.py:4: SettingWithCopyWarning: \n",
      "A value is trying to be set on a copy of a slice from a DataFrame.\n",
      "Try using .loc[row_indexer,col_indexer] = value instead\n",
      "\n",
      "See the caveats in the documentation: https://pandas.pydata.org/pandas-docs/stable/user_guide/indexing.html#returning-a-view-versus-a-copy\n",
      "  sn_dropped[\"Age Group\"] = pd.cut(sn_dropped[\"Age\"], age_bins, labels=age_labels)\n"
     ]
    }
   ],
   "source": [
    "#establish bins by age groups\n",
    "age_bins = [0, 20, 30, 40, 100]\n",
    "age_labels = [\"<20\", \"21-30\", \"31-40\", \"40+\"]\n",
    "sn_dropped[\"Age Group\"] = pd.cut(sn_dropped[\"Age\"], age_bins, labels=age_labels)"
   ]
  },
  {
   "cell_type": "code",
   "execution_count": 474,
   "id": "d9e5350d",
   "metadata": {},
   "outputs": [
    {
     "data": {
      "text/plain": [
       "21-30    291\n",
       "<20      215\n",
       "31-40     63\n",
       "40+        7\n",
       "Name: Age Group, dtype: int64"
      ]
     },
     "execution_count": 474,
     "metadata": {},
     "output_type": "execute_result"
    }
   ],
   "source": [
    "#total count per age group\n",
    "age_group_count = sn_dropped[\"Age Group\"].value_counts()\n",
    "age_group_count"
   ]
  },
  {
   "cell_type": "code",
   "execution_count": 475,
   "id": "64ddd59a",
   "metadata": {},
   "outputs": [
    {
     "data": {
      "text/plain": [
       "21-30    50.52\n",
       "<20      37.33\n",
       "31-40    10.94\n",
       "40+       1.22\n",
       "Name: Age Group, dtype: float64"
      ]
     },
     "execution_count": 475,
     "metadata": {},
     "output_type": "execute_result"
    }
   ],
   "source": [
    "#percentage per age group\n",
    "age_group_percent = round(age_group_count / 576 *100,2)\n",
    "age_group_percent"
   ]
  },
  {
   "cell_type": "code",
   "execution_count": 476,
   "id": "bd1b1aa5",
   "metadata": {},
   "outputs": [
    {
     "data": {
      "text/html": [
       "<div>\n",
       "<style scoped>\n",
       "    .dataframe tbody tr th:only-of-type {\n",
       "        vertical-align: middle;\n",
       "    }\n",
       "\n",
       "    .dataframe tbody tr th {\n",
       "        vertical-align: top;\n",
       "    }\n",
       "\n",
       "    .dataframe thead th {\n",
       "        text-align: right;\n",
       "    }\n",
       "</style>\n",
       "<table border=\"1\" class=\"dataframe\">\n",
       "  <thead>\n",
       "    <tr style=\"text-align: right;\">\n",
       "      <th></th>\n",
       "      <th>Player Count</th>\n",
       "      <th>Percentage</th>\n",
       "    </tr>\n",
       "  </thead>\n",
       "  <tbody>\n",
       "    <tr>\n",
       "      <th>21-30</th>\n",
       "      <td>291</td>\n",
       "      <td>50.52</td>\n",
       "    </tr>\n",
       "    <tr>\n",
       "      <th>&lt;20</th>\n",
       "      <td>215</td>\n",
       "      <td>37.33</td>\n",
       "    </tr>\n",
       "    <tr>\n",
       "      <th>31-40</th>\n",
       "      <td>63</td>\n",
       "      <td>10.94</td>\n",
       "    </tr>\n",
       "    <tr>\n",
       "      <th>40+</th>\n",
       "      <td>7</td>\n",
       "      <td>1.22</td>\n",
       "    </tr>\n",
       "  </tbody>\n",
       "</table>\n",
       "</div>"
      ],
      "text/plain": [
       "       Player Count  Percentage\n",
       "21-30           291       50.52\n",
       "<20             215       37.33\n",
       "31-40            63       10.94\n",
       "40+               7        1.22"
      ]
     },
     "execution_count": 476,
     "metadata": {},
     "output_type": "execute_result"
    }
   ],
   "source": [
    "#display age group demographics\n",
    "age_demographics = pd.concat([\n",
    "    age_group_count.rename(\"Player Count\"), \n",
    "    age_group_percent.rename(\"Percentage\")], axis=1)\n",
    "age_demographics"
   ]
  },
  {
   "cell_type": "raw",
   "id": "0f946d79",
   "metadata": {},
   "source": [
    "Purchasing Analysis (Age)\n",
    "Bin the purchase_data data frame by age\n",
    "Run basic calculations to obtain purchase count, avg. purchase price, total purchase value, avg. purchase total per person\n",
    "Create a summary data frame to hold the results\n",
    "Optional: give the displayed data cleaner formatting\n",
    "Display the summary data frame"
   ]
  },
  {
   "cell_type": "code",
   "execution_count": 477,
   "id": "568190d4",
   "metadata": {},
   "outputs": [],
   "source": [
    "#establish bins by age groups on purchasing data\n",
    "age_bins = [0, 20, 30, 40, 100]\n",
    "age_labels = [\"<20\", \"21-30\", \"31-40\", \"40+\"]\n",
    "purchases[\"Age Group\"] = pd.cut(purchases[\"Age\"], age_bins, labels=age_labels)"
   ]
  },
  {
   "cell_type": "code",
   "execution_count": 478,
   "id": "89e9957f",
   "metadata": {},
   "outputs": [],
   "source": [
    "#group by age group\n",
    "age_grouped = purchases.groupby(\"Age Group\")"
   ]
  },
  {
   "cell_type": "code",
   "execution_count": 479,
   "id": "2486c97c",
   "metadata": {},
   "outputs": [
    {
     "data": {
      "text/plain": [
       "21-30    402\n",
       "<20      286\n",
       "31-40     85\n",
       "40+        7\n",
       "Name: Age Group, dtype: int64"
      ]
     },
     "execution_count": 479,
     "metadata": {},
     "output_type": "execute_result"
    }
   ],
   "source": [
    "#purchase count by age group\n",
    "age_pur_total = purchases[\"Age Group\"].value_counts()\n",
    "age_pur_total"
   ]
  },
  {
   "cell_type": "code",
   "execution_count": 480,
   "id": "517ce35e",
   "metadata": {},
   "outputs": [
    {
     "data": {
      "text/plain": [
       "Age Group\n",
       "<20      3.10\n",
       "21-30    2.99\n",
       "31-40    3.15\n",
       "40+      3.08\n",
       "Name: Price, dtype: float64"
      ]
     },
     "execution_count": 480,
     "metadata": {},
     "output_type": "execute_result"
    }
   ],
   "source": [
    "#average purchase price by age\n",
    "age_average_price = round(age_grouped['Price'].mean(),2)\n",
    "age_average_price"
   ]
  },
  {
   "cell_type": "code",
   "execution_count": 481,
   "id": "c7c1d6f1",
   "metadata": {},
   "outputs": [
    {
     "data": {
      "text/plain": [
       "Age Group\n",
       "<20       887.12\n",
       "21-30    1203.06\n",
       "31-40     268.06\n",
       "40+        21.53\n",
       "Name: Price, dtype: float64"
      ]
     },
     "execution_count": 481,
     "metadata": {},
     "output_type": "execute_result"
    }
   ],
   "source": [
    "#purchase total by age group\n",
    "age_total_purchase = age_grouped[\"Price\"].sum()\n",
    "age_total_purchase"
   ]
  },
  {
   "cell_type": "code",
   "execution_count": 482,
   "id": "0076df4b",
   "metadata": {},
   "outputs": [
    {
     "data": {
      "text/html": [
       "<div>\n",
       "<style scoped>\n",
       "    .dataframe tbody tr th:only-of-type {\n",
       "        vertical-align: middle;\n",
       "    }\n",
       "\n",
       "    .dataframe tbody tr th {\n",
       "        vertical-align: top;\n",
       "    }\n",
       "\n",
       "    .dataframe thead th {\n",
       "        text-align: right;\n",
       "    }\n",
       "</style>\n",
       "<table border=\"1\" class=\"dataframe\">\n",
       "  <thead>\n",
       "    <tr style=\"text-align: right;\">\n",
       "      <th></th>\n",
       "      <th>Purchase Count</th>\n",
       "      <th>Average Purchase Value</th>\n",
       "      <th>Purchase Total</th>\n",
       "    </tr>\n",
       "  </thead>\n",
       "  <tbody>\n",
       "    <tr>\n",
       "      <th>&lt;20</th>\n",
       "      <td>286</td>\n",
       "      <td>3.10</td>\n",
       "      <td>887.12</td>\n",
       "    </tr>\n",
       "    <tr>\n",
       "      <th>21-30</th>\n",
       "      <td>402</td>\n",
       "      <td>2.99</td>\n",
       "      <td>1203.06</td>\n",
       "    </tr>\n",
       "    <tr>\n",
       "      <th>31-40</th>\n",
       "      <td>85</td>\n",
       "      <td>3.15</td>\n",
       "      <td>268.06</td>\n",
       "    </tr>\n",
       "    <tr>\n",
       "      <th>40+</th>\n",
       "      <td>7</td>\n",
       "      <td>3.08</td>\n",
       "      <td>21.53</td>\n",
       "    </tr>\n",
       "  </tbody>\n",
       "</table>\n",
       "</div>"
      ],
      "text/plain": [
       "       Purchase Count  Average Purchase Value  Purchase Total\n",
       "<20               286                    3.10          887.12\n",
       "21-30             402                    2.99         1203.06\n",
       "31-40              85                    3.15          268.06\n",
       "40+                 7                    3.08           21.53"
      ]
     },
     "execution_count": 482,
     "metadata": {},
     "output_type": "execute_result"
    }
   ],
   "source": [
    "#display Purchasing Analysis by age group\n",
    "age_purchasing_analysis = pd.concat(\n",
    "    [age_pur_total.rename(\"Purchase Count\"), \n",
    "     age_average_price.rename(\"Average Purchase Value\"),\n",
    "     age_total_purchase.rename(\"Purchase Total\")], axis=1)\n",
    "age_purchasing_analysis"
   ]
  },
  {
   "cell_type": "raw",
   "id": "050cc7db",
   "metadata": {},
   "source": [
    "Top Spenders\n",
    "Run basic calculations to obtain the results in the table below\n",
    "purchase count, average purchase price, total purchase value\n",
    "Create a summary data frame to hold the results\n",
    "Sort the total purchase value column in descending order\n",
    "Optional: give the displayed data cleaner formatting\n",
    "Display a preview of the summary data frame"
   ]
  },
  {
   "cell_type": "code",
   "execution_count": 483,
   "id": "439d914c",
   "metadata": {},
   "outputs": [],
   "source": [
    "#isolate sn and price, group by sn\n",
    "sn_price = purchases.iloc[:,[0,1,6]]\n",
    "sn_grouped = top_spenders.groupby(\"SN\")"
   ]
  },
  {
   "cell_type": "code",
   "execution_count": 484,
   "id": "9a2e3bad",
   "metadata": {},
   "outputs": [
    {
     "data": {
      "text/plain": [
       "SN\n",
       "Lisosia93      5\n",
       "Iral74         4\n",
       "Idastidru52    4\n",
       "Name: Price, dtype: int64"
      ]
     },
     "execution_count": 484,
     "metadata": {},
     "output_type": "execute_result"
    }
   ],
   "source": [
    "#top spenders purchase count\n",
    "#count number of instances\n",
    "sn_purchase_count = sn_grouped.count()\n",
    "\n",
    "#sort values by count value\n",
    "top_spenders_sort = sn_purchase_count.sort_values(\"Price\", ascending=False).head(3)\n",
    "\n",
    "#isolate count column\n",
    "top_spenders_count = top_spenders_sort[\"Price\"]\n",
    "top_spenders_count\n"
   ]
  },
  {
   "cell_type": "code",
   "execution_count": 485,
   "id": "d837467b",
   "metadata": {},
   "outputs": [
    {
     "data": {
      "text/plain": [
       "SN\n",
       "Lisosia93      18.96\n",
       "Iral74         13.62\n",
       "Idastidru52    15.45\n",
       "Name: Price, dtype: float64"
      ]
     },
     "execution_count": 485,
     "metadata": {},
     "output_type": "execute_result"
    }
   ],
   "source": [
    "#top spenders total purchase price\n",
    "sn_sum_all = sn_price.groupby(\"SN\")[\"Price\"].sum()\n",
    "top_spenders_sum = sn_sum_all.loc[[\"Lisosia93\", \"Iral74\", \"Idastidru52\"]]\n",
    "top_spenders_sum"
   ]
  },
  {
   "cell_type": "code",
   "execution_count": 486,
   "id": "daf71fe3",
   "metadata": {},
   "outputs": [
    {
     "data": {
      "text/plain": [
       "SN\n",
       "Lisosia93      3.79\n",
       "Iral74         3.40\n",
       "Idastidru52    3.86\n",
       "Name: Price, dtype: float64"
      ]
     },
     "execution_count": 486,
     "metadata": {},
     "output_type": "execute_result"
    }
   ],
   "source": [
    "#top spenders average purchase price\n",
    "sn_avg_all = round(sn_price.groupby(\"SN\")[\"Price\"].mean(),2)\n",
    "top_spenders_avg = sn_avg_all.loc[[\"Lisosia93\", \"Iral74\", \"Idastidru52\"]]\n",
    "top_spenders_avg"
   ]
  },
  {
   "cell_type": "code",
   "execution_count": 487,
   "id": "6c4d7903",
   "metadata": {},
   "outputs": [
    {
     "data": {
      "text/html": [
       "<div>\n",
       "<style scoped>\n",
       "    .dataframe tbody tr th:only-of-type {\n",
       "        vertical-align: middle;\n",
       "    }\n",
       "\n",
       "    .dataframe tbody tr th {\n",
       "        vertical-align: top;\n",
       "    }\n",
       "\n",
       "    .dataframe thead th {\n",
       "        text-align: right;\n",
       "    }\n",
       "</style>\n",
       "<table border=\"1\" class=\"dataframe\">\n",
       "  <thead>\n",
       "    <tr style=\"text-align: right;\">\n",
       "      <th></th>\n",
       "      <th>Purchase Count</th>\n",
       "      <th>Mean Purchase Value</th>\n",
       "      <th>Total Purchase Value</th>\n",
       "    </tr>\n",
       "    <tr>\n",
       "      <th>SN</th>\n",
       "      <th></th>\n",
       "      <th></th>\n",
       "      <th></th>\n",
       "    </tr>\n",
       "  </thead>\n",
       "  <tbody>\n",
       "    <tr>\n",
       "      <th>Lisosia93</th>\n",
       "      <td>5</td>\n",
       "      <td>3.79</td>\n",
       "      <td>18.96</td>\n",
       "    </tr>\n",
       "    <tr>\n",
       "      <th>Iral74</th>\n",
       "      <td>4</td>\n",
       "      <td>3.40</td>\n",
       "      <td>13.62</td>\n",
       "    </tr>\n",
       "    <tr>\n",
       "      <th>Idastidru52</th>\n",
       "      <td>4</td>\n",
       "      <td>3.86</td>\n",
       "      <td>15.45</td>\n",
       "    </tr>\n",
       "  </tbody>\n",
       "</table>\n",
       "</div>"
      ],
      "text/plain": [
       "             Purchase Count  Mean Purchase Value  Total Purchase Value\n",
       "SN                                                                    \n",
       "Lisosia93                 5                 3.79                 18.96\n",
       "Iral74                    4                 3.40                 13.62\n",
       "Idastidru52               4                 3.86                 15.45"
      ]
     },
     "execution_count": 487,
     "metadata": {},
     "output_type": "execute_result"
    }
   ],
   "source": [
    "#display top spender statistics\n",
    "top_spender_stats = pd.concat([\n",
    "    top_spenders_count.rename(\"Purchase Count\"), \n",
    "    top_spenders_avg.rename(\"Mean Purchase Value\"), \n",
    "    top_spenders_sum.rename(\"Total Purchase Value\")], axis=1)\n",
    "top_spender_stats"
   ]
  },
  {
   "cell_type": "raw",
   "id": "b6904164",
   "metadata": {},
   "source": [
    "Most Popular Items\n",
    "Retrieve the Item ID, Item Name, and Item Price columns\n",
    "Group by Item ID and Item Name. \n",
    "Perform calculations to obtain purchase count, item price, and total purchase value\n",
    "Create a summary data frame to hold the results\n",
    "Sort the purchase count column in descending order\n",
    "Optional: give the displayed data cleaner formatting\n",
    "Display a preview of the summary data frame"
   ]
  },
  {
   "cell_type": "code",
   "execution_count": 488,
   "id": "f7923422",
   "metadata": {},
   "outputs": [],
   "source": [
    "#locate Item Id, Item Name, and Price columns\n",
    "purchase_items = purchases.iloc[:, 4:7]\n",
    "\n",
    "#groupby Item ID and Item Name\n",
    "items_grouped = purchase_items.groupby([\"Item ID\", \"Item Name\"])"
   ]
  },
  {
   "cell_type": "code",
   "execution_count": 489,
   "id": "3b0ac7a0",
   "metadata": {},
   "outputs": [
    {
     "data": {
      "text/plain": [
       "Item ID  Item Name                                   \n",
       "178      Oathbreaker, Last Hope of the Breaking Storm    12\n",
       "145      Fiery Glass Crusader                             9\n",
       "108      Extraction, Quickblade Of Trembling Hands        9\n",
       "82       Nirvana                                          9\n",
       "Name: Price, dtype: int64"
      ]
     },
     "execution_count": 489,
     "metadata": {},
     "output_type": "execute_result"
    }
   ],
   "source": [
    "#purchase count\n",
    "item_count = items_grouped.count()\n",
    "item_count_sorted = item_count.sort_values(\"Price\", ascending=False)\n",
    "\n",
    "#isolate the top 4 values\n",
    "top_item_count = item_count_sorted.loc[:, 'Price'].head(4)\n",
    "top_item_count"
   ]
  },
  {
   "cell_type": "code",
   "execution_count": 490,
   "id": "cf3895fd",
   "metadata": {},
   "outputs": [
    {
     "data": {
      "text/plain": [
       "Item ID  Item Name                                   \n",
       "178      Oathbreaker, Last Hope of the Breaking Storm    4.23\n",
       "145      Fiery Glass Crusader                            4.58\n",
       "108      Extraction, Quickblade Of Trembling Hands       3.53\n",
       "82       Nirvana                                         4.90\n",
       "Name: Price, dtype: float64"
      ]
     },
     "execution_count": 490,
     "metadata": {},
     "output_type": "execute_result"
    }
   ],
   "source": [
    "#top item prices\n",
    "\n",
    "#set index to Item ID\n",
    "purchase_items_index = purchase_items.set_index([\"Item ID\", \"Item Name\"])\n",
    "purchase_items_index\n",
    "\n",
    "#isolate items IDs\n",
    "top_items = purchase_items_index.loc[[178, 145, 108, 82]]\n",
    "\n",
    "#drop duplicates\n",
    "top_items_dropped = top_items.drop_duplicates(subset=[\"Price\"])\n",
    "\n",
    "#isolate series\n",
    "top_item_price = top_items_dropped[\"Price\"]\n",
    "top_item_price"
   ]
  },
  {
   "cell_type": "code",
   "execution_count": 491,
   "id": "de1f3825",
   "metadata": {},
   "outputs": [
    {
     "data": {
      "text/plain": [
       "Item ID  Item Name                                   \n",
       "178      Oathbreaker, Last Hope of the Breaking Storm    50.76\n",
       "145      Fiery Glass Crusader                            41.22\n",
       "108      Extraction, Quickblade Of Trembling Hands       31.77\n",
       "82       Nirvana                                         44.10\n",
       "Name: Price, dtype: float64"
      ]
     },
     "execution_count": 491,
     "metadata": {},
     "output_type": "execute_result"
    }
   ],
   "source": [
    "#top item total purchase value\n",
    "top_item_total = top_item_price * top_item_count\n",
    "top_item_total"
   ]
  },
  {
   "cell_type": "code",
   "execution_count": 492,
   "id": "4c78577c",
   "metadata": {},
   "outputs": [
    {
     "data": {
      "text/html": [
       "<div>\n",
       "<style scoped>\n",
       "    .dataframe tbody tr th:only-of-type {\n",
       "        vertical-align: middle;\n",
       "    }\n",
       "\n",
       "    .dataframe tbody tr th {\n",
       "        vertical-align: top;\n",
       "    }\n",
       "\n",
       "    .dataframe thead th {\n",
       "        text-align: right;\n",
       "    }\n",
       "</style>\n",
       "<table border=\"1\" class=\"dataframe\">\n",
       "  <thead>\n",
       "    <tr style=\"text-align: right;\">\n",
       "      <th></th>\n",
       "      <th></th>\n",
       "      <th>Item Count</th>\n",
       "      <th>Item Price</th>\n",
       "      <th>Total Purchase Value</th>\n",
       "    </tr>\n",
       "    <tr>\n",
       "      <th>Item ID</th>\n",
       "      <th>Item Name</th>\n",
       "      <th></th>\n",
       "      <th></th>\n",
       "      <th></th>\n",
       "    </tr>\n",
       "  </thead>\n",
       "  <tbody>\n",
       "    <tr>\n",
       "      <th>178</th>\n",
       "      <th>Oathbreaker, Last Hope of the Breaking Storm</th>\n",
       "      <td>12</td>\n",
       "      <td>4.23</td>\n",
       "      <td>50.76</td>\n",
       "    </tr>\n",
       "    <tr>\n",
       "      <th>145</th>\n",
       "      <th>Fiery Glass Crusader</th>\n",
       "      <td>9</td>\n",
       "      <td>4.58</td>\n",
       "      <td>41.22</td>\n",
       "    </tr>\n",
       "    <tr>\n",
       "      <th>108</th>\n",
       "      <th>Extraction, Quickblade Of Trembling Hands</th>\n",
       "      <td>9</td>\n",
       "      <td>3.53</td>\n",
       "      <td>31.77</td>\n",
       "    </tr>\n",
       "    <tr>\n",
       "      <th>82</th>\n",
       "      <th>Nirvana</th>\n",
       "      <td>9</td>\n",
       "      <td>4.90</td>\n",
       "      <td>44.10</td>\n",
       "    </tr>\n",
       "  </tbody>\n",
       "</table>\n",
       "</div>"
      ],
      "text/plain": [
       "                                                      Item Count  Item Price  \\\n",
       "Item ID Item Name                                                              \n",
       "178     Oathbreaker, Last Hope of the Breaking Storm          12        4.23   \n",
       "145     Fiery Glass Crusader                                   9        4.58   \n",
       "108     Extraction, Quickblade Of Trembling Hands              9        3.53   \n",
       "82      Nirvana                                                9        4.90   \n",
       "\n",
       "                                                      Total Purchase Value  \n",
       "Item ID Item Name                                                           \n",
       "178     Oathbreaker, Last Hope of the Breaking Storm                 50.76  \n",
       "145     Fiery Glass Crusader                                         41.22  \n",
       "108     Extraction, Quickblade Of Trembling Hands                    31.77  \n",
       "82      Nirvana                                                      44.10  "
      ]
     },
     "execution_count": 492,
     "metadata": {},
     "output_type": "execute_result"
    }
   ],
   "source": [
    "#display Most Populat Items results in dataframe\n",
    "top_item_analysis = pd.concat(\n",
    "    [top_item_count.rename(\"Item Count\"), \n",
    "     top_item_price.rename(\"Item Price\"),\n",
    "     top_item_total.rename(\"Total Purchase Value\")], axis=1)\n",
    "top_item_analysis"
   ]
  },
  {
   "cell_type": "raw",
   "id": "184df32f",
   "metadata": {},
   "source": [
    "Most Profitable Items\n",
    "Sort the above table by total purchase value in descending order\n",
    "Optional: give the displayed data cleaner formatting\n",
    "Display a preview of the data frame"
   ]
  },
  {
   "cell_type": "code",
   "execution_count": 493,
   "id": "6c3534ab",
   "metadata": {},
   "outputs": [
    {
     "data": {
      "text/html": [
       "<div>\n",
       "<style scoped>\n",
       "    .dataframe tbody tr th:only-of-type {\n",
       "        vertical-align: middle;\n",
       "    }\n",
       "\n",
       "    .dataframe tbody tr th {\n",
       "        vertical-align: top;\n",
       "    }\n",
       "\n",
       "    .dataframe thead th {\n",
       "        text-align: right;\n",
       "    }\n",
       "</style>\n",
       "<table border=\"1\" class=\"dataframe\">\n",
       "  <thead>\n",
       "    <tr style=\"text-align: right;\">\n",
       "      <th></th>\n",
       "      <th></th>\n",
       "      <th>Item Count</th>\n",
       "      <th>Item Price</th>\n",
       "      <th>Total Purchase Value</th>\n",
       "    </tr>\n",
       "    <tr>\n",
       "      <th>Item ID</th>\n",
       "      <th>Item Name</th>\n",
       "      <th></th>\n",
       "      <th></th>\n",
       "      <th></th>\n",
       "    </tr>\n",
       "  </thead>\n",
       "  <tbody>\n",
       "    <tr>\n",
       "      <th>178</th>\n",
       "      <th>Oathbreaker, Last Hope of the Breaking Storm</th>\n",
       "      <td>12</td>\n",
       "      <td>4.23</td>\n",
       "      <td>50.76</td>\n",
       "    </tr>\n",
       "    <tr>\n",
       "      <th>82</th>\n",
       "      <th>Nirvana</th>\n",
       "      <td>9</td>\n",
       "      <td>4.90</td>\n",
       "      <td>44.10</td>\n",
       "    </tr>\n",
       "    <tr>\n",
       "      <th>145</th>\n",
       "      <th>Fiery Glass Crusader</th>\n",
       "      <td>9</td>\n",
       "      <td>4.58</td>\n",
       "      <td>41.22</td>\n",
       "    </tr>\n",
       "    <tr>\n",
       "      <th>108</th>\n",
       "      <th>Extraction, Quickblade Of Trembling Hands</th>\n",
       "      <td>9</td>\n",
       "      <td>3.53</td>\n",
       "      <td>31.77</td>\n",
       "    </tr>\n",
       "  </tbody>\n",
       "</table>\n",
       "</div>"
      ],
      "text/plain": [
       "                                                      Item Count  Item Price  \\\n",
       "Item ID Item Name                                                              \n",
       "178     Oathbreaker, Last Hope of the Breaking Storm          12        4.23   \n",
       "82      Nirvana                                                9        4.90   \n",
       "145     Fiery Glass Crusader                                   9        4.58   \n",
       "108     Extraction, Quickblade Of Trembling Hands              9        3.53   \n",
       "\n",
       "                                                      Total Purchase Value  \n",
       "Item ID Item Name                                                           \n",
       "178     Oathbreaker, Last Hope of the Breaking Storm                 50.76  \n",
       "82      Nirvana                                                      44.10  \n",
       "145     Fiery Glass Crusader                                         41.22  \n",
       "108     Extraction, Quickblade Of Trembling Hands                    31.77  "
      ]
     },
     "execution_count": 493,
     "metadata": {},
     "output_type": "execute_result"
    }
   ],
   "source": [
    "#most profitable items\n",
    "most_profitable = top_item_analysis.sort_values(\"Total Purchase Value\", ascending=False)\n",
    "most_profitable"
   ]
  },
  {
   "cell_type": "code",
   "execution_count": 497,
   "id": "75c0e08d",
   "metadata": {},
   "outputs": [
    {
     "data": {
      "text/plain": [
       "<AxesSubplot:title={'center':'Players by Age Group'}>"
      ]
     },
     "execution_count": 497,
     "metadata": {},
     "output_type": "execute_result"
    },
    {
     "data": {
      "image/png": "[encoded data removed]",
      "text/plain": [
       "<Figure size 432x288 with 1 Axes>"
      ]
     },
     "metadata": {
      "needs_background": "light"
     },
     "output_type": "display_data"
    }
   ],
   "source": [
    "#Matplotlib\n",
    "import matplotlib.pyplot as plt\n",
    "age_group_count.plot(kind=\"bar\", title=\"Players by Age Group\")"
   ]
  },
  {
   "cell_type": "raw",
   "id": "3e08463c",
   "metadata": {},
   "source": [
    "Observable Trends"
   ]
  },
  {
   "cell_type": "raw",
   "id": "50c1b3a5",
   "metadata": {},
   "source": [
    "The majority of players are in the 21-30 age group (50.52%) and 87.85% of players are under 30.\n",
    "\n",
    "The majority of players identidy as male (84.03%).\n",
    "\n",
    "The makority of purchases were made by male identifying people $1967.64 (84%) in a percentage that closly aligns with the male player percentage."
   ]
  },
  {
   "attachments": {
    "PandaManipulation_Certificate.jpg": {
     "image/jpeg": "[encoded data removed]"
    }
   },
   "cell_type": "markdown",
   "id": "7244d0f3",
   "metadata": {},
   "source": [
    "![PandaManipulation_Certificate.jpg](attachment:PandaManipulation_Certificate.jpg)"
   ]
  }
 ],
 "metadata": {
  "kernelspec": {
   "display_name": "Python 3 (ipykernel)",
   "language": "python",
   "name": "python3"
  },
  "language_info": {
   "codemirror_mode": {
    "name": "ipython",
    "version": 3
   },
   "file_extension": ".py",
   "mimetype": "text/x-python",
   "name": "python",
   "nbconvert_exporter": "python",
   "pygments_lexer": "ipython3",
   "version": "3.9.7"
  }
 },
 "nbformat": 4,
 "nbformat_minor": 5
}
