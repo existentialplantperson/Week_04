{
 "cells": [
  {
   "cell_type": "code",
   "execution_count": 25,
   "id": "e371da5b",
   "metadata": {},
   "outputs": [
    {
     "name": "stdout",
     "output_type": "stream",
     "text": [
      "(780, 7)\n"
     ]
    }
   ],
   "source": [
    "import pandas as pd\n",
    "import numpy as np\n",
    "pur_df = pd.read_csv(\"purchase_data.csv\")\n",
    "\n",
    "print(pur_df.shape)"
   ]
  },
  {
   "cell_type": "code",
   "execution_count": 26,
   "id": "ffa31b4c",
   "metadata": {},
   "outputs": [
    {
     "name": "stdout",
     "output_type": "stream",
     "text": [
      "   Purchase ID           SN  Age Gender  Item ID  \\\n",
      "0            0      Lisim78   20   Male      108   \n",
      "1            1  Lisovynya38   40   Male      143   \n",
      "\n",
      "                                   Item Name  Price  \n",
      "0  Extraction, Quickblade Of Trembling Hands   3.53  \n",
      "1                          Frenzied Scimitar   1.56  \n"
     ]
    }
   ],
   "source": [
    "print(pur_df.head(2))"
   ]
  },
  {
   "cell_type": "markdown",
   "id": "628cc1eb",
   "metadata": {},
   "source": [
    "Player Count\n",
    "-Total Number of Players"
   ]
  },
  {
   "cell_type": "code",
   "execution_count": 4,
   "id": "e829dfab",
   "metadata": {},
   "outputs": [
    {
     "name": "stdout",
     "output_type": "stream",
     "text": [
      "Lisosia93      5\n",
      "Iral74         4\n",
      "Idastidru52    4\n",
      "Lisim78        3\n",
      "Aina42         3\n",
      "              ..\n",
      "Hilaerin92     1\n",
      "Ceoral34       1\n",
      "Lisista63      1\n",
      "Layjask75      1\n",
      "Sisur91        1\n",
      "Name: SN, Length: 576, dtype: int64\n"
     ]
    }
   ],
   "source": [
    "print(pur_df[\"SN\"].value_counts())"
   ]
  },
  {
   "cell_type": "code",
   "execution_count": 5,
   "id": "c0de7997",
   "metadata": {},
   "outputs": [
    {
     "name": "stdout",
     "output_type": "stream",
     "text": [
      "   Unique Screen Names:\n",
      "0                   576\n"
     ]
    }
   ],
   "source": [
    "# There are 576 unique screen names.\n",
    "sn_dict = {\"Unique Screen Names:\": [576]}\n",
    "sn_df = pd.DataFrame(sn_dict)\n",
    "print(sn_df)"
   ]
  },
  {
   "cell_type": "markdown",
   "id": "0be840f5",
   "metadata": {},
   "source": [
    "Purchasing Analysis (Total)\n",
    "-Number of Unique Items\n",
    "-Average Purchase Price\n",
    "-Total Number of Purchases\n",
    "-Total Revenue"
   ]
  },
  {
   "cell_type": "code",
   "execution_count": 6,
   "id": "0a298b8b",
   "metadata": {},
   "outputs": [
    {
     "name": "stdout",
     "output_type": "stream",
     "text": [
      "178    12\n",
      "108     9\n",
      "82      9\n",
      "145     9\n",
      "19      8\n",
      "       ..\n",
      "91      1\n",
      "27      1\n",
      "42      1\n",
      "23      1\n",
      "180     1\n",
      "Name: Item ID, Length: 183, dtype: int64\n"
     ]
    }
   ],
   "source": [
    "print(pur_df[\"Item ID\"].value_counts())"
   ]
  },
  {
   "cell_type": "code",
   "execution_count": 7,
   "id": "80aec237",
   "metadata": {},
   "outputs": [
    {
     "name": "stdout",
     "output_type": "stream",
     "text": [
      "   Total Number of Unique Items:\n",
      "0                            183\n"
     ]
    }
   ],
   "source": [
    "#There are 183 unique items sold.\n",
    "itemid_dict = {\"Total Number of Unique Items:\" : [183]}\n",
    "itemid_df = pd.DataFrame(itemid_dict)\n",
    "print(itemid_df)"
   ]
  },
  {
   "cell_type": "code",
   "execution_count": 8,
   "id": "50c26fd7",
   "metadata": {},
   "outputs": [
    {
     "name": "stdout",
     "output_type": "stream",
     "text": [
      "3.05\n"
     ]
    }
   ],
   "source": [
    "price_mean = pur_df[\"Price\"].mean()\n",
    "print(round(price_mean,2))"
   ]
  },
  {
   "cell_type": "code",
   "execution_count": 9,
   "id": "5a753f4e",
   "metadata": {},
   "outputs": [
    {
     "name": "stdout",
     "output_type": "stream",
     "text": [
      "   Average Item Cost:\n",
      "0                3.05\n"
     ]
    }
   ],
   "source": [
    "#The average cost of an item is $3.05.\n",
    "price_dict = {\"Average Item Cost:\" : [round(price_mean,2)]}\n",
    "price_df = pd.DataFrame(price_dict)\n",
    "print(price_df)"
   ]
  },
  {
   "cell_type": "code",
   "execution_count": 10,
   "id": "e5d06fee",
   "metadata": {},
   "outputs": [
    {
     "name": "stdout",
     "output_type": "stream",
     "text": [
      "780\n"
     ]
    }
   ],
   "source": [
    "#The total number of purchases is 780.\n",
    "pur_sum = pur_df[\"Purchase ID\"].count()\n",
    "print(pur_sum)"
   ]
  },
  {
   "cell_type": "code",
   "execution_count": 11,
   "id": "23531319",
   "metadata": {},
   "outputs": [
    {
     "name": "stdout",
     "output_type": "stream",
     "text": [
      "   Total number of purchases:\n",
      "0                         780\n"
     ]
    }
   ],
   "source": [
    "pur_dict = {\"Total number of purchases:\" : [pur_df[\"Purchase ID\"].count()]}\n",
    "pur_df = pd.DataFrame(pur_dict)\n",
    "print(pur_df)"
   ]
  },
  {
   "cell_type": "code",
   "execution_count": 23,
   "id": "e6f20a92",
   "metadata": {},
   "outputs": [
    {
     "ename": "KeyError",
     "evalue": "'price'",
     "output_type": "error",
     "traceback": [
      "\u001b[1;31m---------------------------------------------------------------------------\u001b[0m",
      "\u001b[1;31mKeyError\u001b[0m                                  Traceback (most recent call last)",
      "\u001b[1;32mC:\\Python\\lib\\site-packages\\pandas\\core\\indexes\\base.py\u001b[0m in \u001b[0;36mget_loc\u001b[1;34m(self, key, method, tolerance)\u001b[0m\n\u001b[0;32m   3360\u001b[0m             \u001b[1;32mtry\u001b[0m\u001b[1;33m:\u001b[0m\u001b[1;33m\u001b[0m\u001b[1;33m\u001b[0m\u001b[0m\n\u001b[1;32m-> 3361\u001b[1;33m                 \u001b[1;32mreturn\u001b[0m \u001b[0mself\u001b[0m\u001b[1;33m.\u001b[0m\u001b[0m_engine\u001b[0m\u001b[1;33m.\u001b[0m\u001b[0mget_loc\u001b[0m\u001b[1;33m(\u001b[0m\u001b[0mcasted_key\u001b[0m\u001b[1;33m)\u001b[0m\u001b[1;33m\u001b[0m\u001b[1;33m\u001b[0m\u001b[0m\n\u001b[0m\u001b[0;32m   3362\u001b[0m             \u001b[1;32mexcept\u001b[0m \u001b[0mKeyError\u001b[0m \u001b[1;32mas\u001b[0m \u001b[0merr\u001b[0m\u001b[1;33m:\u001b[0m\u001b[1;33m\u001b[0m\u001b[1;33m\u001b[0m\u001b[0m\n",
      "\u001b[1;32mC:\\Python\\lib\\site-packages\\pandas\\_libs\\index.pyx\u001b[0m in \u001b[0;36mpandas._libs.index.IndexEngine.get_loc\u001b[1;34m()\u001b[0m\n",
      "\u001b[1;32mC:\\Python\\lib\\site-packages\\pandas\\_libs\\index.pyx\u001b[0m in \u001b[0;36mpandas._libs.index.IndexEngine.get_loc\u001b[1;34m()\u001b[0m\n",
      "\u001b[1;32mpandas\\_libs\\hashtable_class_helper.pxi\u001b[0m in \u001b[0;36mpandas._libs.hashtable.PyObjectHashTable.get_item\u001b[1;34m()\u001b[0m\n",
      "\u001b[1;32mpandas\\_libs\\hashtable_class_helper.pxi\u001b[0m in \u001b[0;36mpandas._libs.hashtable.PyObjectHashTable.get_item\u001b[1;34m()\u001b[0m\n",
      "\u001b[1;31mKeyError\u001b[0m: 'price'",
      "\nThe above exception was the direct cause of the following exception:\n",
      "\u001b[1;31mKeyError\u001b[0m                                  Traceback (most recent call last)",
      "\u001b[1;32m~\\AppData\\Local\\Temp/ipykernel_12052/2557137700.py\u001b[0m in \u001b[0;36m<module>\u001b[1;34m\u001b[0m\n\u001b[0;32m      1\u001b[0m \u001b[1;31m#The total revenue\u001b[0m\u001b[1;33m\u001b[0m\u001b[1;33m\u001b[0m\u001b[0m\n\u001b[1;32m----> 2\u001b[1;33m \u001b[0mrev_total\u001b[0m \u001b[1;33m=\u001b[0m \u001b[0mpur_df\u001b[0m\u001b[1;33m[\u001b[0m\u001b[1;34m\"price\"\u001b[0m\u001b[1;33m]\u001b[0m\u001b[1;33m.\u001b[0m\u001b[0msum\u001b[0m\u001b[1;33m(\u001b[0m\u001b[1;33m)\u001b[0m\u001b[1;33m\u001b[0m\u001b[1;33m\u001b[0m\u001b[0m\n\u001b[0m\u001b[0;32m      3\u001b[0m \u001b[0mprint\u001b[0m\u001b[1;33m(\u001b[0m\u001b[0mrev_total\u001b[0m\u001b[1;33m)\u001b[0m\u001b[1;33m\u001b[0m\u001b[1;33m\u001b[0m\u001b[0m\n",
      "\u001b[1;32mC:\\Python\\lib\\site-packages\\pandas\\core\\frame.py\u001b[0m in \u001b[0;36m__getitem__\u001b[1;34m(self, key)\u001b[0m\n\u001b[0;32m   3456\u001b[0m             \u001b[1;32mif\u001b[0m \u001b[0mself\u001b[0m\u001b[1;33m.\u001b[0m\u001b[0mcolumns\u001b[0m\u001b[1;33m.\u001b[0m\u001b[0mnlevels\u001b[0m \u001b[1;33m>\u001b[0m \u001b[1;36m1\u001b[0m\u001b[1;33m:\u001b[0m\u001b[1;33m\u001b[0m\u001b[1;33m\u001b[0m\u001b[0m\n\u001b[0;32m   3457\u001b[0m                 \u001b[1;32mreturn\u001b[0m \u001b[0mself\u001b[0m\u001b[1;33m.\u001b[0m\u001b[0m_getitem_multilevel\u001b[0m\u001b[1;33m(\u001b[0m\u001b[0mkey\u001b[0m\u001b[1;33m)\u001b[0m\u001b[1;33m\u001b[0m\u001b[1;33m\u001b[0m\u001b[0m\n\u001b[1;32m-> 3458\u001b[1;33m             \u001b[0mindexer\u001b[0m \u001b[1;33m=\u001b[0m \u001b[0mself\u001b[0m\u001b[1;33m.\u001b[0m\u001b[0mcolumns\u001b[0m\u001b[1;33m.\u001b[0m\u001b[0mget_loc\u001b[0m\u001b[1;33m(\u001b[0m\u001b[0mkey\u001b[0m\u001b[1;33m)\u001b[0m\u001b[1;33m\u001b[0m\u001b[1;33m\u001b[0m\u001b[0m\n\u001b[0m\u001b[0;32m   3459\u001b[0m             \u001b[1;32mif\u001b[0m \u001b[0mis_integer\u001b[0m\u001b[1;33m(\u001b[0m\u001b[0mindexer\u001b[0m\u001b[1;33m)\u001b[0m\u001b[1;33m:\u001b[0m\u001b[1;33m\u001b[0m\u001b[1;33m\u001b[0m\u001b[0m\n\u001b[0;32m   3460\u001b[0m                 \u001b[0mindexer\u001b[0m \u001b[1;33m=\u001b[0m \u001b[1;33m[\u001b[0m\u001b[0mindexer\u001b[0m\u001b[1;33m]\u001b[0m\u001b[1;33m\u001b[0m\u001b[1;33m\u001b[0m\u001b[0m\n",
      "\u001b[1;32mC:\\Python\\lib\\site-packages\\pandas\\core\\indexes\\base.py\u001b[0m in \u001b[0;36mget_loc\u001b[1;34m(self, key, method, tolerance)\u001b[0m\n\u001b[0;32m   3361\u001b[0m                 \u001b[1;32mreturn\u001b[0m \u001b[0mself\u001b[0m\u001b[1;33m.\u001b[0m\u001b[0m_engine\u001b[0m\u001b[1;33m.\u001b[0m\u001b[0mget_loc\u001b[0m\u001b[1;33m(\u001b[0m\u001b[0mcasted_key\u001b[0m\u001b[1;33m)\u001b[0m\u001b[1;33m\u001b[0m\u001b[1;33m\u001b[0m\u001b[0m\n\u001b[0;32m   3362\u001b[0m             \u001b[1;32mexcept\u001b[0m \u001b[0mKeyError\u001b[0m \u001b[1;32mas\u001b[0m \u001b[0merr\u001b[0m\u001b[1;33m:\u001b[0m\u001b[1;33m\u001b[0m\u001b[1;33m\u001b[0m\u001b[0m\n\u001b[1;32m-> 3363\u001b[1;33m                 \u001b[1;32mraise\u001b[0m \u001b[0mKeyError\u001b[0m\u001b[1;33m(\u001b[0m\u001b[0mkey\u001b[0m\u001b[1;33m)\u001b[0m \u001b[1;32mfrom\u001b[0m \u001b[0merr\u001b[0m\u001b[1;33m\u001b[0m\u001b[1;33m\u001b[0m\u001b[0m\n\u001b[0m\u001b[0;32m   3364\u001b[0m \u001b[1;33m\u001b[0m\u001b[0m\n\u001b[0;32m   3365\u001b[0m         \u001b[1;32mif\u001b[0m \u001b[0mis_scalar\u001b[0m\u001b[1;33m(\u001b[0m\u001b[0mkey\u001b[0m\u001b[1;33m)\u001b[0m \u001b[1;32mand\u001b[0m \u001b[0misna\u001b[0m\u001b[1;33m(\u001b[0m\u001b[0mkey\u001b[0m\u001b[1;33m)\u001b[0m \u001b[1;32mand\u001b[0m \u001b[1;32mnot\u001b[0m \u001b[0mself\u001b[0m\u001b[1;33m.\u001b[0m\u001b[0mhasnans\u001b[0m\u001b[1;33m:\u001b[0m\u001b[1;33m\u001b[0m\u001b[1;33m\u001b[0m\u001b[0m\n",
      "\u001b[1;31mKeyError\u001b[0m: 'price'"
     ]
    }
   ],
   "source": [
    "#The total revenue\n",
    "rev_total = pur_df[\"price\"].sum()\n",
    "print(rev_total)"
   ]
  },
  {
   "cell_type": "markdown",
   "id": "7b54eae4",
   "metadata": {},
   "source": [
    "Gender Demographics\n",
    "-Percentage and Count of Male/Female/Other Players"
   ]
  },
  {
   "cell_type": "code",
   "execution_count": 35,
   "id": "daa51ea9",
   "metadata": {},
   "outputs": [
    {
     "name": "stdout",
     "output_type": "stream",
     "text": [
      "Male                     652\n",
      "Female                   113\n",
      "Other / Non-Disclosed     15\n",
      "Name: Gender, dtype: int64\n"
     ]
    }
   ],
   "source": [
    "gender_total = pur_df[\"Gender\"].value_counts()\n",
    "print(gender_total)"
   ]
  },
  {
   "cell_type": "code",
   "execution_count": 36,
   "id": "23fd52f6",
   "metadata": {},
   "outputs": [],
   "source": [
    "#gender_df = pd.DataFrame(gender_total)\n",
    "#print(gender_df)"
   ]
  },
  {
   "cell_type": "code",
   "execution_count": 38,
   "id": "24e2b168",
   "metadata": {},
   "outputs": [
    {
     "name": "stdout",
     "output_type": "stream",
     "text": [
      "{'Gender': [array(['Male', 'Other / Non-Disclosed', 'Female'], dtype=object)], 'Total': [<bound method IndexOpsMixin.value_counts of 0        Male\n",
      "1        Male\n",
      "2        Male\n",
      "3        Male\n",
      "4        Male\n",
      "        ...  \n",
      "775    Female\n",
      "776      Male\n",
      "777      Male\n",
      "778      Male\n",
      "779      Male\n",
      "Name: Gender, Length: 780, dtype: object>], 'Percentage': [Male                     83.589744\n",
      "Female                   14.487179\n",
      "Other / Non-Disclosed     1.923077\n",
      "Name: Gender, dtype: float64]}\n"
     ]
    }
   ],
   "source": [
    "#gender_dict = {\"Gender\": [pur_df[\"Gender\"].unique()], \n",
    "               \"Total\": [pur_df[\"Gender\"].value_counts], \n",
    "               \"Percentage\": [pur_df[\"Gender\"].value_counts()/780 * 100]}\n",
    "#print(gender_dict)"
   ]
  },
  {
   "cell_type": "code",
   "execution_count": 42,
   "id": "1e443dfc",
   "metadata": {},
   "outputs": [
    {
     "ename": "AttributeError",
     "evalue": "'DataFrameGroupBy' object has no attribute 'value_count'",
     "output_type": "error",
     "traceback": [
      "\u001b[1;31m---------------------------------------------------------------------------\u001b[0m",
      "\u001b[1;31mAttributeError\u001b[0m                            Traceback (most recent call last)",
      "\u001b[1;32m~\\AppData\\Local\\Temp/ipykernel_12052/1077829634.py\u001b[0m in \u001b[0;36m<module>\u001b[1;34m\u001b[0m\n\u001b[1;32m----> 1\u001b[1;33m \u001b[0mpur_df\u001b[0m\u001b[1;33m.\u001b[0m\u001b[0mgroupby\u001b[0m\u001b[1;33m(\u001b[0m\u001b[1;34m\"Gender\"\u001b[0m\u001b[1;33m)\u001b[0m\u001b[1;33m.\u001b[0m\u001b[0mvalue_count\u001b[0m\u001b[1;33m(\u001b[0m\u001b[1;33m)\u001b[0m\u001b[1;33m\u001b[0m\u001b[1;33m\u001b[0m\u001b[0m\n\u001b[0m",
      "\u001b[1;32mC:\\Python\\lib\\site-packages\\pandas\\core\\groupby\\groupby.py\u001b[0m in \u001b[0;36m__getattr__\u001b[1;34m(self, attr)\u001b[0m\n\u001b[0;32m    909\u001b[0m             \u001b[1;32mreturn\u001b[0m \u001b[0mself\u001b[0m\u001b[1;33m[\u001b[0m\u001b[0mattr\u001b[0m\u001b[1;33m]\u001b[0m\u001b[1;33m\u001b[0m\u001b[1;33m\u001b[0m\u001b[0m\n\u001b[0;32m    910\u001b[0m \u001b[1;33m\u001b[0m\u001b[0m\n\u001b[1;32m--> 911\u001b[1;33m         raise AttributeError(\n\u001b[0m\u001b[0;32m    912\u001b[0m             \u001b[1;34mf\"'{type(self).__name__}' object has no attribute '{attr}'\"\u001b[0m\u001b[1;33m\u001b[0m\u001b[1;33m\u001b[0m\u001b[0m\n\u001b[0;32m    913\u001b[0m         )\n",
      "\u001b[1;31mAttributeError\u001b[0m: 'DataFrameGroupBy' object has no attribute 'value_count'"
     ]
    }
   ],
   "source": [
    "pur_df.groupby(\"Gender\").value_count()"
   ]
  },
  {
   "cell_type": "markdown",
   "id": "bcbc1b62",
   "metadata": {},
   "source": [
    "Purchasing Analysis by Gender\n",
    "-purchase count\n",
    "-average purchase price\n",
    "-avg purchase total per person\n",
    "-total purchase value"
   ]
  },
  {
   "cell_type": "code",
   "execution_count": null,
   "id": "4f2c371e",
   "metadata": {},
   "outputs": [],
   "source": []
  }
 ],
 "metadata": {
  "kernelspec": {
   "display_name": "Python 3 (ipykernel)",
   "language": "python",
   "name": "python3"
  },
  "language_info": {
   "codemirror_mode": {
    "name": "ipython",
    "version": 3
   },
   "file_extension": ".py",
   "mimetype": "text/x-python",
   "name": "python",
   "nbconvert_exporter": "python",
   "pygments_lexer": "ipython3",
   "version": "3.9.7"
  }
 },
 "nbformat": 4,
 "nbformat_minor": 5
}
